{
 "cells": [
  {
   "cell_type": "markdown",
   "metadata": {},
   "source": [
    "Based on https://tfhub.dev/google/universal-sentence-encoder-large/5"
   ]
  },
  {
   "cell_type": "code",
   "execution_count": 1,
   "metadata": {
    "ExecuteTime": {
     "end_time": "2021-02-26T09:47:33.365487Z",
     "start_time": "2021-02-26T09:47:33.362479Z"
    }
   },
   "outputs": [],
   "source": [
    "import numpy as np\n",
    "import tensorflow as tf\n",
    "import tensorflow_hub as hub\n",
    "\n",
    "tf.get_logger().setLevel('ERROR')"
   ]
  },
  {
   "cell_type": "code",
   "execution_count": 2,
   "metadata": {},
   "outputs": [],
   "source": [
    "# load the model\n",
    "embed = hub.load(\"/Users/nicholasdinicola/Desktop/ASTON/Dissertation /universal-sentence-encoder-large_5\")"
   ]
  },
  {
   "cell_type": "code",
   "execution_count": 3,
   "metadata": {
    "ExecuteTime": {
     "end_time": "2021-02-26T11:01:21.968405Z",
     "start_time": "2021-02-26T11:01:21.821017Z"
    }
   },
   "outputs": [
    {
     "output_type": "stream",
     "name": "stdout",
     "text": [
      "tf.Tensor(\n[[ 0.03329532 -0.02210531  0.03445317 ... -0.03690788  0.01125785\n   0.03272377]\n [ 0.01449671 -0.03980014  0.01547467 ... -0.07442201  0.01560574\n  -0.03663752]\n [ 0.00608954 -0.03756524  0.01019685 ... -0.07720214  0.02829976\n   0.02770101]\n [ 0.05248757 -0.06430706 -0.01321932 ... -0.09114028 -0.02422299\n   0.04228854]], shape=(4, 512), dtype=float32)\n"
     ]
    }
   ],
   "source": [
    "texts = [\n",
    "    \"shares crashed\",\n",
    "    \"stock tumbled\",\n",
    "    \"shares popped\",\n",
    "    \"stock jumped\"\n",
    "]\n",
    "\n",
    "embeddings = embed(texts)\n",
    "\n",
    "print(embeddings)"
   ]
  },
  {
   "cell_type": "markdown",
   "metadata": {},
   "source": [
    "# Similarity\n",
    "\n",
    "Since the values are normalized, the inner product of encodings can be treated as a similarity matrix."
   ]
  },
  {
   "cell_type": "code",
   "execution_count": 4,
   "metadata": {
    "ExecuteTime": {
     "end_time": "2021-02-26T11:01:27.173700Z",
     "start_time": "2021-02-26T11:01:27.155148Z"
    }
   },
   "outputs": [
    {
     "output_type": "execute_result",
     "data": {
      "text/plain": [
       "array([[1.0000002 , 0.66711986, 0.7540287 , 0.63580614],\n",
       "       [0.66711986, 1.0000001 , 0.6109437 , 0.7992682 ],\n",
       "       [0.7540287 , 0.6109437 , 1.0000002 , 0.6276094 ],\n",
       "       [0.63580614, 0.7992682 , 0.6276094 , 1.        ]], dtype=float32)"
      ]
     },
     "metadata": {},
     "execution_count": 4
    }
   ],
   "source": [
    "sim_matrix = np.inner(embeddings, embeddings)\n",
    "sim_matrix"
   ]
  },
  {
   "cell_type": "code",
   "execution_count": 5,
   "metadata": {
    "ExecuteTime": {
     "end_time": "2021-02-26T11:01:28.509119Z",
     "start_time": "2021-02-26T11:01:28.491573Z"
    }
   },
   "outputs": [
    {
     "output_type": "stream",
     "name": "stdout",
     "text": [
      "shares crashed\n> shares popped\n----------\nstock tumbled\n> stock jumped\n----------\nshares popped\n> shares crashed\n----------\nstock jumped\n> stock tumbled\n----------\n"
     ]
    }
   ],
   "source": [
    "for i, t in enumerate(texts):\n",
    "    print(t)\n",
    "    most_similar_idx = (-sim_matrix[i]).argsort()[1:2][0]\n",
    "    print(\">\", texts[most_similar_idx])\n",
    "    print(\"-\"*10)"
   ]
  },
  {
   "cell_type": "code",
   "execution_count": 6,
   "metadata": {
    "ExecuteTime": {
     "end_time": "2021-02-26T11:05:24.744526Z",
     "start_time": "2021-02-26T11:05:24.645763Z"
    }
   },
   "outputs": [
    {
     "output_type": "stream",
     "name": "stdout",
     "text": [
      "After the earnings report the stock crashed\n> After the earnings report the tumbled\n----------\nAfter the earnings report the tumbled\n> After the earnings report the jumped\n----------\nAfter the earnings report the popped\n> After the earnings report the tumbled\n----------\nAfter the earnings report the jumped\n> After the earnings report the tumbled\n----------\n"
     ]
    }
   ],
   "source": [
    "texts = [\n",
    "    \"After the earnings report the stock crashed\",\n",
    "    \"After the earnings report the tumbled\",\n",
    "    \"After the earnings report the popped\",\n",
    "    \"After the earnings report the jumped\"\n",
    "]\n",
    "embeddings = embed(texts)\n",
    "sim_matrix = np.inner(embeddings, embeddings)\n",
    "for i, t in enumerate(texts):\n",
    "    print(t)\n",
    "    most_similar_idx = (-sim_matrix[i]).argsort()[1:2][0]\n",
    "    print(\">\", texts[most_similar_idx])\n",
    "    print(\"-\"*10)"
   ]
  },
  {
   "cell_type": "code",
   "execution_count": null,
   "metadata": {},
   "outputs": [],
   "source": []
  }
 ],
 "metadata": {
  "kernelspec": {
   "name": "python374jvsc74a57bd0c5109fa0da1c703678d906ff3cb9baf0ec3b65c44138d1b2739f283dc8995e04",
   "display_name": "Python 3.7.4 64-bit ('MyVenv')"
  },
  "language_info": {
   "codemirror_mode": {
    "name": "ipython",
    "version": 3
   },
   "file_extension": ".py",
   "mimetype": "text/x-python",
   "name": "python",
   "nbconvert_exporter": "python",
   "pygments_lexer": "ipython3",
   "version": "3.7.4"
  },
  "toc": {
   "base_numbering": 1,
   "nav_menu": {},
   "number_sections": true,
   "sideBar": true,
   "skip_h1_title": false,
   "title_cell": "Table of Contents",
   "title_sidebar": "Contents",
   "toc_cell": false,
   "toc_position": {},
   "toc_section_display": true,
   "toc_window_display": false
  }
 },
 "nbformat": 4,
 "nbformat_minor": 4
}